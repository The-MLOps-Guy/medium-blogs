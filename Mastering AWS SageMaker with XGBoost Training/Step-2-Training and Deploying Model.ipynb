{
 "cells": [
  {
   "cell_type": "markdown",
   "id": "84974bf4-193a-4af9-b903-3210cf507f20",
   "metadata": {},
   "source": [
    "# Step 4: Splitting into training, testing and evaluating datasets"
   ]
  },
  {
   "cell_type": "code",
   "execution_count": null,
   "id": "a58de6e7-49a0-4575-86f9-df87448689f4",
   "metadata": {},
   "outputs": [],
   "source": [
    "import pandas as pd\n",
    "import numpy as np\n",
    "\n",
    "df = pd.read_csv(\"cleaned_data.csv\")"
   ]
  },
  {
   "cell_type": "code",
   "execution_count": null,
   "id": "764e4fb8-cc34-4eb9-a3ec-fc847911c8c1",
   "metadata": {},
   "outputs": [],
   "source": [
    "# Create train and test data\n",
    "\n",
    "X = df.drop(columns = ['Life expectancy '])\n",
    "y = df[['Life expectancy ']]\n"
   ]
  },
  {
   "cell_type": "code",
   "execution_count": null,
   "id": "d9347d00-1a62-4779-a84a-3f2f45d4ef83",
   "metadata": {},
   "outputs": [],
   "source": [
    "# Convert the data type to float32\n",
    "\n",
    "X = np.array(X).astype('float32')\n",
    "y = np.array(y).astype('float32')"
   ]
  },
  {
   "cell_type": "code",
   "execution_count": null,
   "id": "664c378e-9df1-414e-9d26-a4def5a27d78",
   "metadata": {},
   "outputs": [],
   "source": [
    "# spliting the data into training, testing and validation sets\n",
    "from sklearn.model_selection import train_test_split\n",
    "\n",
    "X_train, X_test, y_train, y_test = train_test_split(X, y, test_size = 0.3)\n",
    "X_test, X_val, y_test, y_val = train_test_split(X_test, y_test, test_size = 0.5)"
   ]
  },
  {
   "cell_type": "code",
   "execution_count": null,
   "id": "e838e2d6-c98d-495e-86eb-579c768ea9f7",
   "metadata": {},
   "outputs": [],
   "source": [
    "# Convert the array into dataframe in a way that target variable is set as the first column and followed by feature columns\n",
    "# This is because sagemaker built-in algorithm expects the data in this format.\n",
    "\n",
    "train_data = pd.DataFrame({'Target': y_train[:,0]})\n",
    "for i in range(X_train.shape[1]):\n",
    "    train_data[i] = X_train[:,i]\n",
    "\n",
    "train_data.head()"
   ]
  },
  {
   "cell_type": "code",
   "execution_count": null,
   "id": "b1ab47e4-17b4-4775-a375-83a5dd8ecc11",
   "metadata": {},
   "outputs": [],
   "source": [
    "val_data = pd.DataFrame({'Target':y_val[:,0]})\n",
    "for i in range(X_val.shape[1]):\n",
    "    val_data[i] = X_val[:,i]\n",
    "\n",
    "val_data.head()"
   ]
  },
  {
   "cell_type": "code",
   "execution_count": null,
   "id": "6eb71f59-6029-46d2-bf0d-b35cf56cdbc8",
   "metadata": {},
   "outputs": [],
   "source": [
    "# save train_data and validation_data as csv files.\n",
    "\n",
    "train_data.to_csv('train.csv', header = False, index = False)\n",
    "val_data.to_csv('validation.csv', header = False, index = False)"
   ]
  },
  {
   "cell_type": "code",
   "execution_count": null,
   "id": "f3930b87-76e3-48b2-b01d-4344280eb2cf",
   "metadata": {},
   "outputs": [],
   "source": [
    "# read the data from csv file and then upload the data to s3 bucket\n",
    "import os\n",
    "\n",
    "bucket_name = 'awssagemaker-xgboost'\n",
    "with open('train.csv','rb') as f:\n",
    "    # The following code uploads the data into S3 bucket to be accessed later for training\n",
    "    boto3.Session().resource('s3').Bucket(bucket_name).Object(os.path.join(prefix, 'train', key)).upload_fileobj(f)\n",
    "\n",
    "# Let's print out the training data location in s3\n",
    "s3_train_data = 's3://{}/{}/train/{}'.format(bucket_name, prefix, key)\n",
    "print('uploaded training data location: {}'.format(s3_train_data))\n",
    "\n",
    "with open('validation.csv','rb') as f:\n",
    "    # The following code uploads the data into S3 bucket to be accessed later for training\n",
    "\n",
    "    boto3.Session().resource('s3').Bucket(bucket_name).Object(os.path.join(prefix, 'validation', key)).upload_fileobj(f)\n",
    "# Let's print out the validation data location in s3\n",
    "s3_validation_data = 's3://{}/{}/validation/{}'.format(bucket_name, prefix, key)\n",
    "print('uploaded validation data location: {}'.format(s3_validation_data))"
   ]
  },
  {
   "cell_type": "code",
   "execution_count": null,
   "id": "c69cfe85-83c6-4817-8dc1-7048bef99bae",
   "metadata": {},
   "outputs": [],
   "source": [
    "output_location = 's3://{}/{}/output'.format(bucket_name, prefix)\n",
    "print('training artifacts will be uploaded to: {}'.format(output_location))"
   ]
  },
  {
   "cell_type": "markdown",
   "id": "2eaf4d93-f668-49e8-bbd6-a7c67915303c",
   "metadata": {},
   "source": [
    "# Step 5:  Training the XGBoost Model"
   ]
  },
  {
   "cell_type": "code",
   "execution_count": null,
   "id": "58f13988-83a6-4a3f-9e4f-c616b416276d",
   "metadata": {},
   "outputs": [],
   "source": [
    "import sagemaker\n",
    "import boto3\n",
    "from sagemaker import Session\n",
    "\n",
    "# Let's create a Sagemaker session\n",
    "sagemaker_session = sagemaker.Session()\n",
    "bucket = Session().default_bucket() \n",
    "prefix = 'XGBoost-Regressor'\n",
    "key = 'XGBoost-Regressor'\n",
    "# Roles give learning and hosting access to the data\n",
    "# This is specified while opening the sagemakers instance in \"Create an IAM role\"\n",
    "role = sagemaker.get_execution_role()"
   ]
  },
  {
   "cell_type": "code",
   "execution_count": null,
   "id": "fbff57ad-99e9-4adc-a79c-fed2eb79f8af",
   "metadata": {},
   "outputs": [],
   "source": [
    "print(role)"
   ]
  },
  {
   "cell_type": "code",
   "execution_count": null,
   "id": "c3b70e7f-b137-4c36-bc3d-f45f914c6942",
   "metadata": {},
   "outputs": [],
   "source": [
    "boto3.Session().region_name"
   ]
  },
  {
   "cell_type": "code",
   "execution_count": null,
   "id": "c2430e44-74ad-4962-a530-9a76c53b03d4",
   "metadata": {},
   "outputs": [],
   "source": [
    "container = sagemaker.image_uris.retrieve(\"xgboost\", boto3.Session().region_name, version='1.0-1')"
   ]
  },
  {
   "cell_type": "code",
   "execution_count": null,
   "id": "65c59842-bad9-4bd3-a214-7f844a128855",
   "metadata": {},
   "outputs": [],
   "source": [
    "Xgboost_regressor = sagemaker.estimator.Estimator(container,\n",
    "                                       role, \n",
    "                                       instance_count = 1, \n",
    "                                       instance_type = 'ml.m4.xlarge',\n",
    "                                       output_path = output_location,\n",
    "                                       sagemaker_session = sagemaker_session)\n",
    "\n",
    "#We can tune the hyper-parameters to improve the performance of the model\n",
    "\n",
    "Xgboost_regressor.set_hyperparameters(max_depth = 5,\n",
    "                           objective = 'reg:squarederror',\n",
    "                           colsample_bytree = 0.3,\n",
    "                           alpha = 10,\n",
    "                           eta = 0.1,\n",
    "                           num_round = 100)\n",
    "\n"
   ]
  },
  {
   "cell_type": "code",
   "execution_count": null,
   "id": "bf0a3ba1-c6c2-4699-b7e3-72b993849e7e",
   "metadata": {},
   "outputs": [],
   "source": [
    "# Creating \"train\", \"validation\" channels to feed in the model\n",
    "# Source: https://docs.aws.amazon.com/sagemaker/latest/dg/sagemaker-algo-docker-registry-paths.html\n",
    "\n",
    "train_input = sagemaker.session.TrainingInput(s3_data = s3_train_data, content_type='csv',s3_data_type = 'S3Prefix')\n",
    "valid_input = sagemaker.session.TrainingInput(s3_data = s3_validation_data, content_type='csv',s3_data_type = 'S3Prefix')\n",
    "\n",
    "\n",
    "data_channels = {'train': train_input,'validation': valid_input}\n",
    "\n",
    "\n",
    "Xgboost_regressor.fit(data_channels)"
   ]
  },
  {
   "cell_type": "markdown",
   "id": "706aa8f2-4060-4052-ac89-944472c06db1",
   "metadata": {},
   "source": [
    "# Step 6: Deploy the model"
   ]
  },
  {
   "cell_type": "code",
   "execution_count": null,
   "id": "1a13ea6c-3a43-46f6-8e1b-bfef3c5f07e9",
   "metadata": {},
   "outputs": [],
   "source": [
    "predictor = Xgboost_regressor.deploy(initial_instance_count = 1, instance_type = \"ml.m4.xlarge\")"
   ]
  },
  {
   "cell_type": "code",
   "execution_count": null,
   "id": "425db64b-6307-40df-9fb7-ae766dd826e9",
   "metadata": {},
   "outputs": [],
   "source": [
    "predictor.endpoint_name"
   ]
  },
  {
   "cell_type": "markdown",
   "id": "706b599a-0514-4bec-a94d-6f0e8074a01a",
   "metadata": {},
   "source": [
    "# Step 7: Predicting the values using the trained model"
   ]
  },
  {
   "cell_type": "code",
   "execution_count": null,
   "id": "0adfae1f-157b-4220-8403-45d4f916161b",
   "metadata": {},
   "outputs": [],
   "source": [
    "from sagemaker.serializers import CSVSerializer\n",
    "from sagemaker.deserializers import JSONDeserializer "
   ]
  },
  {
   "cell_type": "code",
   "execution_count": null,
   "id": "0af614cf-90fe-4f1d-8c42-b951e2bbed2c",
   "metadata": {},
   "outputs": [],
   "source": [
    "predictor.content_type = \"text/csv\"\n",
    "predictor.accept = \"text/csv\"\n",
    "predictor.serializer = CSVSerializer()\n",
    "predictor.deserializer = JSONDeserializer()"
   ]
  },
  {
   "cell_type": "code",
   "execution_count": null,
   "id": "4b72a876-9377-43b1-a7a7-84233195b1c3",
   "metadata": {},
   "outputs": [],
   "source": [
    "\n",
    "type(X_test)\n",
    "X_test_df = pd.DataFrame(X_test)\n",
    "\n",
    "# Convert DataFrame to CSV string\n",
    "X_test_csv = X_test_df.to_csv(index=False, header=False)"
   ]
  },
  {
   "cell_type": "code",
   "execution_count": null,
   "id": "ba62677b-1e44-4a64-8dce-16a0fa5938d9",
   "metadata": {},
   "outputs": [],
   "source": [
    "response = predictor.sagemaker_session.sagemaker_runtime_client.invoke_endpoint(\n",
    "    EndpointName=\"sagemaker-xgboost-2024-08-23-08-12-01-230\",\n",
    "    ContentType='text/csv',\n",
    "    Body=X_test_csv\n",
    ")\n",
    "\n",
    "# Print the raw response\n",
    "response_body=response['Body'].read().decode('utf-8')\n",
    "# Split the response by lines and get rid of extra lines\n",
    "lines = response_body.split('\\n')\n",
    "cleaned_response = '\\n'.join(lines[:1])  # Keep only the first line\n",
    "\n",
    "# Print the cleaned response\n",
    "print(cleaned_response)"
   ]
  },
  {
   "cell_type": "code",
   "execution_count": null,
   "id": "2811ac97-20c5-4c28-b48e-fa64dbc3daa7",
   "metadata": {},
   "outputs": [],
   "source": [
    "import pandas as pd\n",
    "import numpy as np\n",
    "\n",
    "# Step 1: Clean the response (assuming cleaned_response is the CSV string)\n",
    "# For example, if cleaned_response is a CSV string:\n",
    " # Replace with your actual cleaned CSV response\n",
    "\n",
    "# Step 2: Convert the cleaned CSV response to a Pandas DataFrame\n",
    "from io import StringIO\n",
    "\n",
    "# Use StringIO to read the cleaned CSV string into a DataFrame\n",
    "csv_data = StringIO(cleaned_response)\n",
    "df = pd.read_csv(csv_data, header=None)  # Adjust header parameter if needed\n",
    "\n",
    "# Step 3: Convert DataFrame to NumPy Array\n",
    "predicted_values = df.to_numpy()\n",
    "\n",
    "print(predicted_values)\n"
   ]
  },
  {
   "cell_type": "code",
   "execution_count": null,
   "id": "335bf238-24fe-4f3e-8d40-43814b879347",
   "metadata": {},
   "outputs": [],
   "source": [
    "predicted_values.shape"
   ]
  },
  {
   "cell_type": "code",
   "execution_count": null,
   "id": "2a070062-d5c1-4a8f-bcf1-bd0cf8ab3a6b",
   "metadata": {},
   "outputs": [],
   "source": [
    "import matplotlib.pyplot as plt\n",
    "plt.scatter(predicted_values, y_test)\n",
    "plt.show()"
   ]
  },
  {
   "cell_type": "code",
   "execution_count": null,
   "id": "e21cffd5-7fd7-47b5-aa26-7d7bcdf1a49a",
   "metadata": {},
   "outputs": [],
   "source": [
    "# Delete the end-point\n",
    "predictor.delete_endpoint()"
   ]
  }
 ],
 "metadata": {
  "kernelspec": {
   "display_name": "Python 3 (ipykernel)",
   "language": "python",
   "name": "python3"
  },
  "language_info": {
   "codemirror_mode": {
    "name": "ipython",
    "version": 3
   },
   "file_extension": ".py",
   "mimetype": "text/x-python",
   "name": "python",
   "nbconvert_exporter": "python",
   "pygments_lexer": "ipython3",
   "version": "3.10.14"
  }
 },
 "nbformat": 4,
 "nbformat_minor": 5
}
