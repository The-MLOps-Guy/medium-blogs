{
 "cells": [
  {
   "cell_type": "markdown",
   "id": "43c0da07-da57-4265-817c-889589bd8fa0",
   "metadata": {},
   "source": [
    "# Step 1: Install the necessary packages"
   ]
  },
  {
   "cell_type": "code",
   "execution_count": null,
   "id": "17d30f4d-ee60-435e-8114-08d8411b4004",
   "metadata": {},
   "outputs": [],
   "source": [
    "!pip install --upgrade pip"
   ]
  },
  {
   "cell_type": "code",
   "execution_count": null,
   "id": "7975f833-432a-4409-a44b-832842faea02",
   "metadata": {},
   "outputs": [],
   "source": [
    "!pip install -r requirements.txt"
   ]
  },
  {
   "cell_type": "markdown",
   "id": "adbdc49c-96b8-4d8d-af70-455f18d74e23",
   "metadata": {},
   "source": [
    "# Step 2: Ingest the Raw Dataset and perform EDA"
   ]
  },
  {
   "cell_type": "code",
   "execution_count": null,
   "id": "980d0f78-2ae7-440c-82e6-19062d0f31b7",
   "metadata": {},
   "outputs": [],
   "source": [
    "import boto3\n",
    "import pandas as pd\n",
    "from io import StringIO\n",
    "\n",
    "# Initialize the S3 client\n",
    "s3 = boto3.client('s3')\n",
    "\n",
    "# Specify the S3 bucket and file key (path to the CSV file)\n",
    "bucket_name = 'awssagemaker-xgboost'\n",
    "file_key = 'raw/Life_Expectancy_Data.csv'\n",
    "\n",
    "# Read the CSV file from S3\n",
    "response = s3.get_object(Bucket=bucket_name, Key=file_key)\n",
    "csv_content = response['Body'].read().decode('utf-8')\n",
    "\n",
    "df = pd.read_csv(StringIO(csv_content))\n",
    "\n",
    "# Display the DataFrame\n",
    "print(df)"
   ]
  },
  {
   "cell_type": "code",
   "execution_count": null,
   "id": "91462d7c-7cfc-4de7-a1cc-10cf10b30926",
   "metadata": {},
   "outputs": [],
   "source": [
    "# Display the feature columns, rows and data types\n",
    "df.info()\n"
   ]
  },
  {
   "cell_type": "code",
   "execution_count": null,
   "id": "1378a7db-22bf-40a8-af8b-e357cfeb92bb",
   "metadata": {},
   "outputs": [],
   "source": [
    "# Check if any missing values are present in the dataframe\n",
    "df.isnull().sum()"
   ]
  },
  {
   "cell_type": "code",
   "execution_count": null,
   "id": "f02ca0d2-6500-47c8-9a12-09a91b2c7ffe",
   "metadata": {},
   "outputs": [],
   "source": [
    "# Plottig the Null values\n",
    "import seaborn as sns\n",
    "import matplotlib.pyplot as plt\n",
    "import plotly.express as px # Interactive Data Visualization\n",
    "sns.heatmap(df.isnull(), yticklabels = False, cbar = False, cmap=\"Blues\")\n",
    "plt.show()"
   ]
  },
  {
   "cell_type": "markdown",
   "id": "b748a237-7988-4702-88d2-8eb1a568f853",
   "metadata": {},
   "source": [
    "# Step 3: Feature Engineering"
   ]
  },
  {
   "cell_type": "code",
   "execution_count": null,
   "id": "dcd3d2fd-c13b-4856-9505-6c95a546445f",
   "metadata": {},
   "outputs": [],
   "source": [
    "# Droppimg the null rows\n",
    "df = df.dropna()"
   ]
  },
  {
   "cell_type": "code",
   "execution_count": null,
   "id": "0715284d-3109-40a7-9ee8-cf3103443f5e",
   "metadata": {},
   "outputs": [],
   "source": [
    "df.isnull().sum()"
   ]
  },
  {
   "cell_type": "code",
   "execution_count": null,
   "id": "78ffa9ac-ace2-4ad2-95a3-502fbdaf309e",
   "metadata": {},
   "outputs": [],
   "source": [
    "# check if there are any Null values\n",
    "sns.heatmap(df.isnull(), yticklabels = False, cbar = False, cmap=\"Blues\")\n",
    "plt.show()"
   ]
  },
  {
   "cell_type": "code",
   "execution_count": null,
   "id": "e4462049-6d85-4b93-b0af-f2b65da56f0a",
   "metadata": {},
   "outputs": [],
   "source": [
    "# Perform one-hot encoding\n",
    "life_expectancy_df = pd.get_dummies(df, columns = ['Status'])"
   ]
  },
  {
   "cell_type": "code",
   "execution_count": null,
   "id": "1b270bc8-3f9c-4bc0-acd8-be1b9c6b1e8a",
   "metadata": {},
   "outputs": [],
   "source": [
    "# Plot the histogram\n",
    "df.hist(bins = 30, figsize = (20,20), color = 'r');\n",
    "plt.show()"
   ]
  },
  {
   "cell_type": "code",
   "execution_count": null,
   "id": "88fa0795-46fe-4b82-ba52-61ac3b8198d5",
   "metadata": {},
   "outputs": [],
   "source": [
    "# Plot the correlation matrix\n",
    "\n",
    "# Select only numeric columns\n",
    "numeric_df = df.select_dtypes(include=[float, int])\n",
    "\n",
    "# Calculate the correlation matrix\n",
    "corr_matrix = numeric_df.corr()\n",
    "\n",
    "# Plot the correlation matrix\n",
    "plt.figure(figsize=(20, 20))\n",
    "sns.heatmap(corr_matrix, annot=True, cmap='coolwarm', linewidths=0.5)\n",
    "plt.show()"
   ]
  },
  {
   "cell_type": "code",
   "execution_count": null,
   "id": "02091846-043f-4831-8862-8fad9c4fea9d",
   "metadata": {},
   "outputs": [],
   "source": [
    "df.info()"
   ]
  },
  {
   "cell_type": "code",
   "execution_count": null,
   "id": "dbb32116-9b37-411e-9a6f-596b544e4b29",
   "metadata": {},
   "outputs": [],
   "source": [
    "\n",
    "from sklearn.preprocessing import LabelEncoder\n",
    "\n",
    "# Sample DataFrame (replace this with your actual DataFrame)\n",
    "# df = pd.read_csv('your_data.csv')\n",
    "\n",
    "# Identify columns with string data types (categorical data)\n",
    "categorical_columns = df.select_dtypes(include=['object']).columns\n",
    "\n",
    "# Initialize LabelEncoder\n",
    "le = LabelEncoder()\n",
    "\n",
    "# Apply LabelEncoder to each categorical column\n",
    "for col in categorical_columns:\n",
    "    df[col] = le.fit_transform(df[col])\n",
    "\n",
    "df.info()"
   ]
  },
  {
   "cell_type": "code",
   "execution_count": null,
   "id": "27feb5dc-fe3c-4e7b-9e0a-26123a4be6d1",
   "metadata": {},
   "outputs": [],
   "source": [
    "df.to_csv('cleaned_data.csv', index=False)"
   ]
  }
 ],
 "metadata": {
  "kernelspec": {
   "display_name": "Python 3 (ipykernel)",
   "language": "python",
   "name": "python3"
  },
  "language_info": {
   "codemirror_mode": {
    "name": "ipython",
    "version": 3
   },
   "file_extension": ".py",
   "mimetype": "text/x-python",
   "name": "python",
   "nbconvert_exporter": "python",
   "pygments_lexer": "ipython3",
   "version": "3.10.14"
  }
 },
 "nbformat": 4,
 "nbformat_minor": 5
}
